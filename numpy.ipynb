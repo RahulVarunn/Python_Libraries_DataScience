{
 "cells": [
  {
   "cell_type": "code",
   "execution_count": 1,
   "metadata": {},
   "outputs": [],
   "source": [
    "import numpy as np\n"
   ]
  },
  {
   "cell_type": "code",
   "execution_count": 4,
   "metadata": {},
   "outputs": [
    {
     "name": "stdout",
     "output_type": "stream",
     "text": [
      "[0. 0. 0. 0. 0. 0. 0. 0. 0. 0.]\n"
     ]
    }
   ],
   "source": [
    "#Create a null vector of size 10 \n",
    "numpy=np.zeros(10)\n",
    "print(numpy)\n"
   ]
  },
  {
   "cell_type": "code",
   "execution_count": 23,
   "metadata": {},
   "outputs": [
    {
     "name": "stdout",
     "output_type": "stream",
     "text": [
      "[1 2 3 4 5]\n"
     ]
    }
   ],
   "source": [
    "#Creating Arrays\n",
    "numpy = np.array([1, 2, 3, 4, 5])\n",
    "print(numpy)\n"
   ]
  },
  {
   "cell_type": "code",
   "execution_count": 8,
   "metadata": {},
   "outputs": [
    {
     "data": {
      "text/plain": [
       "(5,)"
      ]
     },
     "execution_count": 8,
     "metadata": {},
     "output_type": "execute_result"
    }
   ],
   "source": [
    "# shape of array \n",
    "numpy.shape"
   ]
  },
  {
   "cell_type": "code",
   "execution_count": 44,
   "metadata": {},
   "outputs": [
    {
     "name": "stdout",
     "output_type": "stream",
     "text": [
      "Befor Inserting: [1 2 3 4 5]\n",
      "________________________________________________________________________________\n",
      "After Inserting data: [10  1  2  3  4  5]\n",
      "________________________________________________________________________________\n",
      "After deleting data: [1 2 3 4 5]\n",
      "________________________________________________________________________________\n",
      "Size of Dataset: 5 \n",
      "________________________________________________________________________________\n",
      "After Appending: [ 1  2  3  4  5  6  7  8  9 10]\n"
     ]
    }
   ],
   "source": [
    "#Basic operations of Numpy \n",
    "def numpy(x):\n",
    "    print(\"Befor Inserting: {}\".format(x))\n",
    "    print(\"_\"*80)\n",
    "    x=np.insert(x, 0,10)#appending values\n",
    "    print(\"After Inserting data: {}\".format(x))\n",
    "    print(\"_\"*80)\n",
    "    x=np.delete(x,0)\n",
    "    print(\"After deleting data: {}\".format(x))\n",
    "    print(\"_\"*80)\n",
    "    print(\"Size of Dataset: {} \".format(x.size))\n",
    "    #adding rows \n",
    "    x=np.append(x,np.array([6,7,8,9,10]),axis=0)\n",
    "    print(\"_\"*80)\n",
    "\n",
    "    print(\"After Appending: {}\".format(x))\n",
    "\n",
    "numpy(np.array([1, 2, 3, 4, 5]))\n",
    "\n",
    "\n",
    "\n",
    "\n",
    "\n"
   ]
  },
  {
   "cell_type": "code",
   "execution_count": 53,
   "metadata": {},
   "outputs": [
    {
     "name": "stdout",
     "output_type": "stream",
     "text": [
      "Indexing Elements: 3 And  4\n"
     ]
    }
   ],
   "source": [
    "#Array Indexing\n",
    "numpy = np.array([[1, 2, 3], [2, 3, 4]])\n",
    "print(\"Indexing Elements: {} And  {}\".format(a[0][2], a[1][2]))"
   ]
  },
  {
   "cell_type": "code",
   "execution_count": null,
   "metadata": {},
   "outputs": [],
   "source": []
  }
 ],
 "metadata": {
  "kernelspec": {
   "display_name": "Python 3",
   "language": "python",
   "name": "python3"
  },
  "language_info": {
   "codemirror_mode": {
    "name": "ipython",
    "version": 3
   },
   "file_extension": ".py",
   "mimetype": "text/x-python",
   "name": "python",
   "nbconvert_exporter": "python",
   "pygments_lexer": "ipython3",
   "version": "3.10.11"
  },
  "orig_nbformat": 4
 },
 "nbformat": 4,
 "nbformat_minor": 2
}
